{
    "nbformat_minor": 2, 
    "cells": [
        {
            "source": "# VENUE PROFILE OF BOOKSTORES IN SAN FRANCISCO AND NEW YORK  \n# (PART 1)", 
            "cell_type": "markdown", 
            "metadata": {}
        }, 
        {
            "source": "**by We You Toh**", 
            "cell_type": "markdown", 
            "metadata": {}
        }, 
        {
            "source": "## INTRODUCTION\n\nIn my casual daily observation, I find that where there is a bookstore, I am usually able to find a coffee shop nearby pretty easily. Putting this into the perspective of business intelligence, it could be a useful proposition to find out whether it is a common phenomenon that bookstores and coffee shops are close to each other. Since my focus will be placed on bookstores, I also plan to test out if it is common that bookstores are near each other. Thease are the objectives of this project.\n\nIn this project, we will use the Foursquare API to build a *\"venue profile\"* for the bookstores in the city of San Francisco. With the venue information gathered and with the help of the Folium library, we will place markers on the map of San Francisco to visualize the bookstore locations. We even go further to compare San Francisco's profile for the bookstores against New York City's. Finally, we will run a few statistical tests to compare the significance of differences in venue profiles.", 
            "cell_type": "markdown", 
            "metadata": {}
        }, 
        {
            "source": "<a id='item1'></a>", 
            "cell_type": "markdown", 
            "metadata": {}
        }, 
        {
            "source": "## APPROACH TO ANALYSIS", 
            "cell_type": "markdown", 
            "metadata": {}
        }, 
        {
            "source": "### The Business Problem\n\nAs mentioned earlier, I've chosen to work on the questions of whether it is a common phenomenon that \n1. bookstores are near one another.  \n2. bookstores and coffee shops are close to one another\n  ", 
            "cell_type": "markdown", 
            "metadata": {}
        }, 
        {
            "source": "The quantifiable way of using data to look at the questions will be to find out the proportion of bookstores near coffee shops, and the proportion of bookstores near one another.\n\nThis analysis will follow a descriptive approach to provide the information we want.", 
            "cell_type": "markdown", 
            "metadata": {}
        }, 
        {
            "source": "### Data Requirement\n\nTo achieve the analysis objectives, I will be gathering the following data:\n1. Venue/location data. \n    - This will come from Foursquare and the data collected will be stored in a dataframe.\n2. Proximity data. \n    - This feature will be engineered using the venue/location data. Each venue will be checked to determine separately if other bookstores, or coffee shops, are nearby. The results will be stored in separate columns, which will then be appended to the dataframe.\n", 
            "cell_type": "markdown", 
            "metadata": {}
        }, 
        {
            "source": "For consistency in the data collection, the following quantifiable specifications are determined:\n1. How near is \"near\"? \n    - We'll quantify this to be 250m radius (equivalent to about 1 to 2 city block).\n2. What is the specific set of latitude and longitude to use? \n    - We will rely on Foursquare's defined location for San Francisco city.\n3. How far should the search cover? \n    - To ensure consistency in the search process, we'll set the coverage to a 4000m radius, which should cover San Francisco city substantially.\n", 
            "cell_type": "markdown", 
            "metadata": {}
        }, 
        {
            "source": "The steps taken in the can be summarized as such:\n1. Data gathering/storing\n    - Gather venue data from Foursquare and store in a dataframe.\n2. Data preparation\n    - Carry out logical tests if there are other bookstores or coffee shops nearby for each bookstore, and append the results to the dataframe.\n3. Data analysis \n    - Compute the statistics: Calculate the proportion of bookstores near each other/coffee shops.\n    - Data visualization: Place the bookstores and coffee shops on a map to provide a visual sense of their closeness to one another.\n\nSimilarly, we repeat the steps to gather another dataset for New York city. ", 
            "cell_type": "markdown", 
            "metadata": {}
        }, 
        {
            "source": "### Statistical Test\n\nIn the final step, we'll carry out a few tests to compare the results between San Francisco and New York. Since we are working with proportions, and we'll be sampling two sets of data, it will be appropriate to carry out two-sample proportions Z-test on the datasets.\n", 
            "cell_type": "markdown", 
            "metadata": {}
        }, 
        {
            "source": "<a id='item2'></a>", 
            "cell_type": "markdown", 
            "metadata": {}
        }, 
        {
            "source": "**Thank you for checking out this project. I hope you have found it enjoyable.**  \n*-This project has been done by We You Toh.-*", 
            "cell_type": "markdown", 
            "metadata": {}
        }
    ], 
    "metadata": {
        "kernelspec": {
            "display_name": "Python 3.5", 
            "name": "python3", 
            "language": "python"
        }, 
        "language_info": {
            "mimetype": "text/x-python", 
            "nbconvert_exporter": "python", 
            "version": "3.5.5", 
            "name": "python", 
            "file_extension": ".py", 
            "pygments_lexer": "ipython3", 
            "codemirror_mode": {
                "version": 3, 
                "name": "ipython"
            }
        }
    }, 
    "nbformat": 4
}